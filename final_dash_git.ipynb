{
 "cells": [
  {
   "cell_type": "code",
   "execution_count": 1,
   "id": "3c171d86",
   "metadata": {},
   "outputs": [
    {
     "data": {
      "text/html": [
       "<div>\n",
       "<style scoped>\n",
       "    .dataframe tbody tr th:only-of-type {\n",
       "        vertical-align: middle;\n",
       "    }\n",
       "\n",
       "    .dataframe tbody tr th {\n",
       "        vertical-align: top;\n",
       "    }\n",
       "\n",
       "    .dataframe thead th {\n",
       "        text-align: right;\n",
       "    }\n",
       "</style>\n",
       "<table border=\"1\" class=\"dataframe\">\n",
       "  <thead>\n",
       "    <tr style=\"text-align: right;\">\n",
       "      <th></th>\n",
       "      <th>event_id</th>\n",
       "      <th>age_segment</th>\n",
       "      <th>event</th>\n",
       "      <th>item_id</th>\n",
       "      <th>item_topic</th>\n",
       "      <th>item_type</th>\n",
       "      <th>source_id</th>\n",
       "      <th>source_topic</th>\n",
       "      <th>source_type</th>\n",
       "      <th>ts</th>\n",
       "      <th>user_id</th>\n",
       "    </tr>\n",
       "  </thead>\n",
       "  <tbody>\n",
       "    <tr>\n",
       "      <th>0</th>\n",
       "      <td>2931262</td>\n",
       "      <td>18-25</td>\n",
       "      <td>show</td>\n",
       "      <td>1793260</td>\n",
       "      <td>Красота</td>\n",
       "      <td>native</td>\n",
       "      <td>8388799</td>\n",
       "      <td>История</td>\n",
       "      <td>publisher</td>\n",
       "      <td>1569349657638</td>\n",
       "      <td>2185026</td>\n",
       "    </tr>\n",
       "    <tr>\n",
       "      <th>1</th>\n",
       "      <td>2931277</td>\n",
       "      <td>18-25</td>\n",
       "      <td>show</td>\n",
       "      <td>7465641</td>\n",
       "      <td>Культура</td>\n",
       "      <td>native</td>\n",
       "      <td>5837959</td>\n",
       "      <td>История</td>\n",
       "      <td>publisher</td>\n",
       "      <td>1569349657971</td>\n",
       "      <td>6845238</td>\n",
       "    </tr>\n",
       "    <tr>\n",
       "      <th>2</th>\n",
       "      <td>2931285</td>\n",
       "      <td>18-25</td>\n",
       "      <td>show</td>\n",
       "      <td>406073</td>\n",
       "      <td>История</td>\n",
       "      <td>url</td>\n",
       "      <td>2335872</td>\n",
       "      <td>Сад и дача</td>\n",
       "      <td>domain</td>\n",
       "      <td>1569349658408</td>\n",
       "      <td>5244363</td>\n",
       "    </tr>\n",
       "    <tr>\n",
       "      <th>3</th>\n",
       "      <td>2931247</td>\n",
       "      <td>26-30</td>\n",
       "      <td>show</td>\n",
       "      <td>752665</td>\n",
       "      <td>Путешествия</td>\n",
       "      <td>native</td>\n",
       "      <td>6963489</td>\n",
       "      <td>Здоровье</td>\n",
       "      <td>publisher</td>\n",
       "      <td>1569349657189</td>\n",
       "      <td>7553074</td>\n",
       "    </tr>\n",
       "    <tr>\n",
       "      <th>4</th>\n",
       "      <td>2931278</td>\n",
       "      <td>26-30</td>\n",
       "      <td>click</td>\n",
       "      <td>6843081</td>\n",
       "      <td>Юмор</td>\n",
       "      <td>url</td>\n",
       "      <td>5427748</td>\n",
       "      <td>Семейные отношения</td>\n",
       "      <td>domain</td>\n",
       "      <td>1569349658054</td>\n",
       "      <td>1317585</td>\n",
       "    </tr>\n",
       "  </tbody>\n",
       "</table>\n",
       "</div>"
      ],
      "text/plain": [
       "   event_id age_segment  event  item_id   item_topic item_type  source_id  \\\n",
       "0   2931262       18-25   show  1793260      Красота    native    8388799   \n",
       "1   2931277       18-25   show  7465641     Культура    native    5837959   \n",
       "2   2931285       18-25   show   406073      История       url    2335872   \n",
       "3   2931247       26-30   show   752665  Путешествия    native    6963489   \n",
       "4   2931278       26-30  click  6843081         Юмор       url    5427748   \n",
       "\n",
       "         source_topic source_type             ts  user_id  \n",
       "0             История   publisher  1569349657638  2185026  \n",
       "1             История   publisher  1569349657971  6845238  \n",
       "2          Сад и дача      domain  1569349658408  5244363  \n",
       "3            Здоровье   publisher  1569349657189  7553074  \n",
       "4  Семейные отношения      domain  1569349658054  1317585  "
      ]
     },
     "execution_count": 1,
     "metadata": {},
     "output_type": "execute_result"
    }
   ],
   "source": [
    "# импортируем библиотеки\n",
    "import pandas as pd\n",
    "from sqlalchemy import create_engine\n",
    "\n",
    "db_config = {'user': 'praktikum_student', # имя пользователя\n",
    "            'pwd': 'Sdf4$2;d-d30pp', # пароль\n",
    "            'host': 'rc1b-wcoijxj3yxfsf3fs.mdb.yandexcloud.net',\n",
    "            'port': 6432, # порт подключения\n",
    "            'db': 'data-analyst-zen-project-db'} # название базы данных\n",
    "\n",
    "connection_string = 'postgresql://{}:{}@{}:{}/{}'.format(db_config['user'],\n",
    "                                                db_config['pwd'],\n",
    "                                                db_config['host'],\n",
    "                                                db_config['port'],\n",
    "                                                db_config['db'])\n",
    "\n",
    "engine = create_engine(connection_string)\n",
    "\n",
    "query = '''\n",
    "           SELECT *\n",
    "           FROM log_raw\n",
    "        '''\n",
    "\n",
    "log_raw = pd.io.sql.read_sql(query, con = engine) \n",
    "log_raw.to_csv('bank_dataset.csv', index=False)\n",
    "log_raw.head()\n",
    "\n"
   ]
  },
  {
   "cell_type": "code",
   "execution_count": 23,
   "id": "213d2ef2",
   "metadata": {},
   "outputs": [
    {
     "name": "stdout",
     "output_type": "stream",
     "text": [
      "<class 'pandas.core.frame.DataFrame'>\n",
      "RangeIndex: 322391 entries, 0 to 322390\n",
      "Data columns (total 11 columns):\n",
      " #   Column        Non-Null Count   Dtype \n",
      "---  ------        --------------   ----- \n",
      " 0   event_id      322391 non-null  int64 \n",
      " 1   age_segment   322391 non-null  object\n",
      " 2   event         322391 non-null  object\n",
      " 3   item_id       322391 non-null  int64 \n",
      " 4   item_topic    322391 non-null  object\n",
      " 5   item_type     322391 non-null  object\n",
      " 6   source_id     322391 non-null  int64 \n",
      " 7   source_topic  322391 non-null  object\n",
      " 8   source_type   322391 non-null  object\n",
      " 9   ts            322391 non-null  int64 \n",
      " 10  user_id       322391 non-null  int64 \n",
      "dtypes: int64(5), object(6)\n",
      "memory usage: 27.1+ MB\n"
     ]
    }
   ],
   "source": [
    "log_raw.info()"
   ]
  },
  {
   "cell_type": "code",
   "execution_count": 26,
   "id": "5a83701d",
   "metadata": {},
   "outputs": [
    {
     "data": {
      "text/plain": [
       "88750"
      ]
     },
     "execution_count": 26,
     "metadata": {},
     "output_type": "execute_result"
    }
   ],
   "source": [
    "len(log_raw['user_id'].unique())"
   ]
  },
  {
   "cell_type": "code",
   "execution_count": 18,
   "id": "afb21fd1",
   "metadata": {},
   "outputs": [
    {
     "data": {
      "text/plain": [
       "array(['Авто', 'Деньги', 'Дети', 'Еда', 'Здоровье', 'Знаменитости',\n",
       "       'Интерьеры', 'Искусство', 'История', 'Кино', 'Музыка', 'Одежда',\n",
       "       'Полезные советы', 'Политика', 'Психология', 'Путешествия',\n",
       "       'Ремонт', 'Россия', 'Сад и дача', 'Сделай сам',\n",
       "       'Семейные отношения', 'Семья', 'Спорт', 'Строительство',\n",
       "       'Технологии', 'Финансы'], dtype=object)"
      ]
     },
     "execution_count": 18,
     "metadata": {},
     "output_type": "execute_result"
    }
   ],
   "source": [
    "dash_visits['source_topic'].unique()"
   ]
  },
  {
   "cell_type": "code",
   "execution_count": 19,
   "id": "6492298b",
   "metadata": {},
   "outputs": [
    {
     "data": {
      "text/plain": [
       "array(['Деньги', 'Дети', 'Женская психология', 'Женщины', 'Здоровье',\n",
       "       'Знаменитости', 'Интересные факты', 'Искусство', 'История',\n",
       "       'Красота', 'Культура', 'Наука', 'Общество', 'Отношения',\n",
       "       'Подборки', 'Полезные советы', 'Психология', 'Путешествия',\n",
       "       'Рассказы', 'Россия', 'Семья', 'Скандалы', 'Туризм', 'Шоу', 'Юмор'],\n",
       "      dtype=object)"
      ]
     },
     "execution_count": 19,
     "metadata": {},
     "output_type": "execute_result"
    }
   ],
   "source": [
    "dash_visits['item_topic'].unique()"
   ]
  }
 ],
 "metadata": {
  "kernelspec": {
   "display_name": "Python 3 (ipykernel)",
   "language": "python",
   "name": "python3"
  },
  "language_info": {
   "codemirror_mode": {
    "name": "ipython",
    "version": 3
   },
   "file_extension": ".py",
   "mimetype": "text/x-python",
   "name": "python",
   "nbconvert_exporter": "python",
   "pygments_lexer": "ipython3",
   "version": "3.9.7"
  }
 },
 "nbformat": 4,
 "nbformat_minor": 5
}
